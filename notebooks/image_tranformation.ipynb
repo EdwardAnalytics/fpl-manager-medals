{
 "cells": [
  {
   "cell_type": "code",
   "execution_count": 2,
   "metadata": {},
   "outputs": [],
   "source": [
    "# Change directory to level up to import functions\n",
    "import os\n",
    "os.chdir('..')"
   ]
  },
  {
   "cell_type": "code",
   "execution_count": 3,
   "metadata": {},
   "outputs": [],
   "source": [
    "from src.app_tools.image_tools import convert_to_png, resize_image, round_corners"
   ]
  },
  {
   "cell_type": "code",
   "execution_count": 14,
   "metadata": {},
   "outputs": [
    {
     "data": {
      "text/plain": [
       "'c:\\\\Users\\\\edwar\\\\OneDrive\\\\Documents\\\\08_Hobbies\\\\01_Edward\\\\01_Fantasy_Football\\\\04_Manager Segmentation\\\\fpl-manager-medals'"
      ]
     },
     "execution_count": 14,
     "metadata": {},
     "output_type": "execute_result"
    }
   ],
   "source": [
    "os.getcwd()\n"
   ]
  },
  {
   "cell_type": "code",
   "execution_count": 19,
   "metadata": {},
   "outputs": [],
   "source": [
    "url_jpg = \"assets/award_images/sean_dyche.jpg\"\n",
    "url_png = url_jpg.replace(\"jpeg\", \"png\").replace(\"jpg\", \"png\")\n",
    "size = 500  # New size in pixels\n",
    "radius = 30  # Radius for rounded corners\n",
    "\n",
    "input_image_path = url_jpg\n",
    "output_image_path = url_png\n",
    "\n",
    "# Convert to PNG\n",
    "convert_to_png(input_image_path, \"temp.png\")\n",
    "\n",
    "# Resize Image\n",
    "resize_image(\"temp.png\", \"resized.png\", size)\n",
    "\n",
    "# Round Corners\n",
    "round_corners(\"resized.png\", output_image_path, radius)"
   ]
  }
 ],
 "metadata": {
  "kernelspec": {
   "display_name": "Python 3",
   "language": "python",
   "name": "python3"
  },
  "language_info": {
   "codemirror_mode": {
    "name": "ipython",
    "version": 3
   },
   "file_extension": ".py",
   "mimetype": "text/x-python",
   "name": "python",
   "nbconvert_exporter": "python",
   "pygments_lexer": "ipython3",
   "version": "3.11.7"
  }
 },
 "nbformat": 4,
 "nbformat_minor": 2
}
