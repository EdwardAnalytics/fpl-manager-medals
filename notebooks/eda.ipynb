{
 "cells": [
  {
   "cell_type": "code",
   "execution_count": 1,
   "metadata": {},
   "outputs": [],
   "source": [
    "# Change directory to level up to import functions\n",
    "import os\n",
    "os.chdir('..')"
   ]
  },
  {
   "cell_type": "code",
   "execution_count": null,
   "metadata": {},
   "outputs": [],
   "source": [
    "\n",
    "from src.data_prep.all_team_data import get_all_team_data\n",
    "from src.profiling.get_medals import get_all_medals\n"
   ]
  },
  {
   "cell_type": "code",
   "execution_count": null,
   "metadata": {},
   "outputs": [],
   "source": [
    "from src.data_prep.load_data import (\n",
    "    get_boostrap_data,\n",
    "    get_current_season_year,\n",
    ")\n",
    "import json\n",
    "from src.scoring import get_team_medals\n",
    "import pandas as pd"
   ]
  },
  {
   "cell_type": "code",
   "execution_count": null,
   "metadata": {},
   "outputs": [],
   "source": [
    "# Get boostrap data\n",
    "bootstrap_data = get_boostrap_data()\n",
    "\n",
    "# Get player data\n",
    "current_season_year = get_current_season_year(bootstrap_data=bootstrap_data)\n",
    "\n",
    "# Load metadata\n",
    "file_path = \"data/training_meta.json\"\n",
    "with open(file_path, 'r') as file:\n",
    "    training_meta = json.load(file)\n",
    "current_gameweek=training_meta['training_data_gameweek']\n",
    "\n",
    "# Load player data\n",
    "try:  # i.e. season has started\n",
    "    file_path = f\"data/vaastav-data/player_data_{current_season_year}.csv\"\n",
    "    player_data = pd.read_csv(file_path)\n",
    "except:\n",
    "    player_data='Season Not Started'"
   ]
  },
  {
   "cell_type": "code",
   "execution_count": null,
   "metadata": {},
   "outputs": [],
   "source": [
    "team_id=''\n",
    "team_id = ''\n",
    "medals_df = get_team_medals(team_id, bootstrap_data, current_gameweek, player_data)"
   ]
  },
  {
   "cell_type": "code",
   "execution_count": null,
   "metadata": {},
   "outputs": [],
   "source": [
    "from src.data_prep.load_data import get_team_data"
   ]
  },
  {
   "cell_type": "code",
   "execution_count": null,
   "metadata": {},
   "outputs": [],
   "source": []
  },
  {
   "cell_type": "code",
   "execution_count": null,
   "metadata": {},
   "outputs": [],
   "source": [
    "max_league_size = 300\n",
    "page_limit = 6"
   ]
  },
  {
   "cell_type": "code",
   "execution_count": null,
   "metadata": {},
   "outputs": [],
   "source": []
  },
  {
   "cell_type": "code",
   "execution_count": null,
   "metadata": {},
   "outputs": [],
   "source": [
    "from src.data_prep.load_data_league import get_league_data,"
   ]
  },
  {
   "cell_type": "code",
   "execution_count": null,
   "metadata": {},
   "outputs": [],
   "source": [
    "page_limit=10\n",
    "league_id=''"
   ]
  },
  {
   "cell_type": "code",
   "execution_count": null,
   "metadata": {},
   "outputs": [],
   "source": [
    "league_details,b = get_league_data('', current_gameweek=current_gameweek,page_limit=page_limit)"
   ]
  },
  {
   "cell_type": "code",
   "execution_count": null,
   "metadata": {},
   "outputs": [],
   "source": [
    "from src.scoring import get_league_medals"
   ]
  },
  {
   "cell_type": "code",
   "execution_count": null,
   "metadata": {},
   "outputs": [],
   "source": [
    "a, df = get_league_medals(league_id,page_limit,bootstrap_data, current_gameweek, player_data)"
   ]
  },
  {
   "cell_type": "code",
   "execution_count": null,
   "metadata": {},
   "outputs": [],
   "source": [
    "medal_list = list(df['Medal Name'].unique())"
   ]
  },
  {
   "cell_type": "code",
   "execution_count": null,
   "metadata": {},
   "outputs": [],
   "source": []
  },
  {
   "cell_type": "code",
   "execution_count": null,
   "metadata": {},
   "outputs": [],
   "source": [
    "league_details, league_data = get_league_data(league_id=league_id,current_gameweek=current_gameweek,page_limit=page_limit)\n",
    "league_name = league_details['league']['name']\n",
    "\n",
    "columns = ['Manager', 'Team', 'Medal Name', 'Medal']\n",
    "league_medals = pd.DataFrame(columns=columns)"
   ]
  },
  {
   "cell_type": "code",
   "execution_count": null,
   "metadata": {},
   "outputs": [],
   "source": [
    "league_data"
   ]
  },
  {
   "cell_type": "code",
   "execution_count": null,
   "metadata": {},
   "outputs": [],
   "source": [
    "for team in league_data:\n",
    "        team_id = team['entry']\n",
    "        medals_stage = get_team_medals(team_id, bootstrap_data, current_gameweek, player_data)\n",
    "        medals_stage['Manager']=team['player_name']\n",
    "        medals_stage['Team']=team['entry_name']\n",
    "\n",
    "        medals_stage = medals_stage[['Manager','Team','Medal Name','Medal']]\n",
    "\n",
    "        league_medals = pd.concat([league_medals, medals_stage], ignore_index=True)"
   ]
  },
  {
   "cell_type": "code",
   "execution_count": null,
   "metadata": {},
   "outputs": [],
   "source": [
    "team_data, team_history_data = get_team_data(team_id=396481)"
   ]
  },
  {
   "cell_type": "code",
   "execution_count": null,
   "metadata": {},
   "outputs": [],
   "source": []
  },
  {
   "cell_type": "code",
   "execution_count": null,
   "metadata": {},
   "outputs": [],
   "source": [
    "league_details['new_entries'].keys()"
   ]
  }
 ],
 "metadata": {
  "kernelspec": {
   "display_name": "Python 3",
   "language": "python",
   "name": "python3"
  },
  "language_info": {
   "codemirror_mode": {
    "name": "ipython",
    "version": 3
   },
   "file_extension": ".py",
   "mimetype": "text/x-python",
   "name": "python",
   "nbconvert_exporter": "python",
   "pygments_lexer": "ipython3",
   "version": "3.11.7"
  }
 },
 "nbformat": 4,
 "nbformat_minor": 2
}
